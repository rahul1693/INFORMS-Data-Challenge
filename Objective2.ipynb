{
 "cells": [
  {
   "cell_type": "markdown",
   "metadata": {},
   "source": [
    "## Importing Packages"
   ]
  },
  {
   "cell_type": "code",
   "execution_count": 1,
   "metadata": {},
   "outputs": [],
   "source": [
    "from IPython.display import display\n",
    "import pandas as pd\n",
    "import numpy as np #for getting maximum\n",
    "import statsmodels.api as sm  #Linear Regression- OLS\n",
    "import statsmodels.formula.api as smf\n",
    "import seaborn as sns\n",
    "import matplotlib.pyplot as plt\n",
    "import random #sampling"
   ]
  },
  {
   "cell_type": "markdown",
   "metadata": {},
   "source": [
    "## Load in our data from objective 1 and original data"
   ]
  },
  {
   "cell_type": "code",
   "execution_count": 2,
   "metadata": {},
   "outputs": [],
   "source": [
    "PATH = \"D:/case studies/syngenta_crop_challenge/Crop Challenge Data_2/Dataset/\"\n",
    "\n",
    "obj1 = pd.read_csv(PATH + 'Objectve1.csv', low_memory=False)\n",
    "\n",
    "performance = pd.read_csv(PATH + 'performance_data.csv', low_memory=False)"
   ]
  },
  {
   "cell_type": "code",
   "execution_count": 3,
   "metadata": {},
   "outputs": [
    {
     "data": {
      "text/html": [
       "<div>\n",
       "<style scoped>\n",
       "    .dataframe tbody tr th:only-of-type {\n",
       "        vertical-align: middle;\n",
       "    }\n",
       "\n",
       "    .dataframe tbody tr th {\n",
       "        vertical-align: top;\n",
       "    }\n",
       "\n",
       "    .dataframe thead th {\n",
       "        text-align: right;\n",
       "    }\n",
       "</style>\n",
       "<table border=\"1\" class=\"dataframe\">\n",
       "  <thead>\n",
       "    <tr style=\"text-align: right;\">\n",
       "      <th></th>\n",
       "      <th>ENV_ID</th>\n",
       "      <th>ENV_YIELD_MEAN</th>\n",
       "      <th>tavg</th>\n",
       "      <th>TMAX</th>\n",
       "      <th>TMIN</th>\n",
       "      <th>warmnights</th>\n",
       "      <th>hotdays</th>\n",
       "      <th>VP</th>\n",
       "      <th>ELEVATION</th>\n",
       "      <th>dayl_srad_tavg</th>\n",
       "      <th>...</th>\n",
       "      <th>euc0</th>\n",
       "      <th>euc1</th>\n",
       "      <th>hd_stress</th>\n",
       "      <th>heat_drought_stress</th>\n",
       "      <th>heat_stress1</th>\n",
       "      <th>drought_stress1</th>\n",
       "      <th>heat_drought_stress1</th>\n",
       "      <th>heat_stress_s</th>\n",
       "      <th>drought_stress_s</th>\n",
       "      <th>heat_drought_stress_s</th>\n",
       "    </tr>\n",
       "  </thead>\n",
       "  <tbody>\n",
       "    <tr>\n",
       "      <th>0</th>\n",
       "      <td>Env_1</td>\n",
       "      <td>101.42998</td>\n",
       "      <td>11.689227</td>\n",
       "      <td>17.381215</td>\n",
       "      <td>5.997238</td>\n",
       "      <td>0</td>\n",
       "      <td>0</td>\n",
       "      <td>188400</td>\n",
       "      <td>870.65</td>\n",
       "      <td>37545216392</td>\n",
       "      <td>...</td>\n",
       "      <td>0.0</td>\n",
       "      <td>83.519656</td>\n",
       "      <td>83.519656</td>\n",
       "      <td>731.320213</td>\n",
       "      <td>0.0</td>\n",
       "      <td>87.357932</td>\n",
       "      <td>731.320213</td>\n",
       "      <td>0.0</td>\n",
       "      <td>1.0</td>\n",
       "      <td>0.003858</td>\n",
       "    </tr>\n",
       "  </tbody>\n",
       "</table>\n",
       "<p>1 rows × 52 columns</p>\n",
       "</div>"
      ],
      "text/plain": [
       "  ENV_ID  ENV_YIELD_MEAN       tavg       TMAX      TMIN  warmnights  hotdays  \\\n",
       "0  Env_1       101.42998  11.689227  17.381215  5.997238           0        0   \n",
       "\n",
       "       VP  ELEVATION  dayl_srad_tavg          ...            euc0       euc1  \\\n",
       "0  188400     870.65     37545216392          ...             0.0  83.519656   \n",
       "\n",
       "   hd_stress  heat_drought_stress  heat_stress1  drought_stress1  \\\n",
       "0  83.519656           731.320213           0.0        87.357932   \n",
       "\n",
       "   heat_drought_stress1  heat_stress_s  drought_stress_s  \\\n",
       "0            731.320213            0.0               1.0   \n",
       "\n",
       "   heat_drought_stress_s  \n",
       "0               0.003858  \n",
       "\n",
       "[1 rows x 52 columns]"
      ]
     },
     "execution_count": 3,
     "metadata": {},
     "output_type": "execute_result"
    }
   ],
   "source": [
    "obj1.head(1)"
   ]
  },
  {
   "cell_type": "code",
   "execution_count": 4,
   "metadata": {},
   "outputs": [
    {
     "data": {
      "text/html": [
       "<div>\n",
       "<style scoped>\n",
       "    .dataframe tbody tr th:only-of-type {\n",
       "        vertical-align: middle;\n",
       "    }\n",
       "\n",
       "    .dataframe tbody tr th {\n",
       "        vertical-align: top;\n",
       "    }\n",
       "\n",
       "    .dataframe thead th {\n",
       "        text-align: right;\n",
       "    }\n",
       "</style>\n",
       "<table border=\"1\" class=\"dataframe\">\n",
       "  <thead>\n",
       "    <tr style=\"text-align: right;\">\n",
       "      <th></th>\n",
       "      <th>HYBRID_ID</th>\n",
       "      <th>ENV_ID</th>\n",
       "      <th>HYBRID_MG</th>\n",
       "      <th>ENV_MG</th>\n",
       "      <th>YIELD</th>\n",
       "      <th>YEAR</th>\n",
       "      <th>LAT</th>\n",
       "      <th>LONG</th>\n",
       "      <th>PLANT_DATE</th>\n",
       "      <th>HARVEST_DATE</th>\n",
       "      <th>...</th>\n",
       "      <th>ENV_YIELD_STD</th>\n",
       "      <th>ELEVATION</th>\n",
       "      <th>CLAY</th>\n",
       "      <th>SILT</th>\n",
       "      <th>SAND</th>\n",
       "      <th>AWC</th>\n",
       "      <th>PH</th>\n",
       "      <th>OM</th>\n",
       "      <th>CEC</th>\n",
       "      <th>KSAT</th>\n",
       "    </tr>\n",
       "  </thead>\n",
       "  <tbody>\n",
       "    <tr>\n",
       "      <th>0</th>\n",
       "      <td>H2136</td>\n",
       "      <td>Env_94</td>\n",
       "      <td>0</td>\n",
       "      <td>2</td>\n",
       "      <td>135.2951</td>\n",
       "      <td>2012</td>\n",
       "      <td>45.9</td>\n",
       "      <td>-95.1</td>\n",
       "      <td>5/11/2012</td>\n",
       "      <td>9/27/2012</td>\n",
       "      <td>...</td>\n",
       "      <td>14.815002</td>\n",
       "      <td>1312.3</td>\n",
       "      <td>22.75</td>\n",
       "      <td>33.6</td>\n",
       "      <td>43.425</td>\n",
       "      <td>21.6875</td>\n",
       "      <td>6.8</td>\n",
       "      <td>6.9</td>\n",
       "      <td>27.0</td>\n",
       "      <td>4.525</td>\n",
       "    </tr>\n",
       "  </tbody>\n",
       "</table>\n",
       "<p>1 rows × 22 columns</p>\n",
       "</div>"
      ],
      "text/plain": [
       "  HYBRID_ID  ENV_ID  HYBRID_MG  ENV_MG     YIELD  YEAR   LAT  LONG PLANT_DATE  \\\n",
       "0     H2136  Env_94          0       2  135.2951  2012  45.9 -95.1  5/11/2012   \n",
       "\n",
       "  HARVEST_DATE  ...   ENV_YIELD_STD  ELEVATION   CLAY  SILT    SAND      AWC  \\\n",
       "0    9/27/2012  ...       14.815002     1312.3  22.75  33.6  43.425  21.6875   \n",
       "\n",
       "    PH   OM   CEC   KSAT  \n",
       "0  6.8  6.9  27.0  4.525  \n",
       "\n",
       "[1 rows x 22 columns]"
      ]
     },
     "execution_count": 4,
     "metadata": {},
     "output_type": "execute_result"
    }
   ],
   "source": [
    "performance.head(1)"
   ]
  },
  {
   "cell_type": "markdown",
   "metadata": {},
   "source": [
    "## Joining the Dataset to get stress, Yield and Hybrid-ID"
   ]
  },
  {
   "cell_type": "code",
   "execution_count": 5,
   "metadata": {},
   "outputs": [],
   "source": [
    "#joining data\n",
    "df_raw = pd.merge(performance[['HYBRID_ID','ENV_ID','YIELD']],\n",
    "                 obj1[['ENV_ID','ENV_YIELD_MEAN','heat_stress_s','drought_stress_s','heat_drought_stress_s']],\n",
    "                 on = 'ENV_ID', \n",
    "                 how = 'left')"
   ]
  },
  {
   "cell_type": "code",
   "execution_count": 6,
   "metadata": {},
   "outputs": [],
   "source": [
    "def display_all(df):\n",
    "    \"\"\" To display more columns than default\n",
    "    \"\"\"\n",
    "    \n",
    "    with pd.option_context(\"display.max_rows\", 1000, \"display.max_columns\", 1000): \n",
    "        display(df)"
   ]
  },
  {
   "cell_type": "code",
   "execution_count": 7,
   "metadata": {},
   "outputs": [
    {
     "data": {
      "text/html": [
       "<div>\n",
       "<style scoped>\n",
       "    .dataframe tbody tr th:only-of-type {\n",
       "        vertical-align: middle;\n",
       "    }\n",
       "\n",
       "    .dataframe tbody tr th {\n",
       "        vertical-align: top;\n",
       "    }\n",
       "\n",
       "    .dataframe thead th {\n",
       "        text-align: right;\n",
       "    }\n",
       "</style>\n",
       "<table border=\"1\" class=\"dataframe\">\n",
       "  <thead>\n",
       "    <tr style=\"text-align: right;\">\n",
       "      <th></th>\n",
       "      <th>387422</th>\n",
       "      <th>387423</th>\n",
       "      <th>387424</th>\n",
       "      <th>387425</th>\n",
       "      <th>387426</th>\n",
       "    </tr>\n",
       "  </thead>\n",
       "  <tbody>\n",
       "    <tr>\n",
       "      <th>HYBRID_ID</th>\n",
       "      <td>H1531</td>\n",
       "      <td>H1037</td>\n",
       "      <td>H1871</td>\n",
       "      <td>H1037</td>\n",
       "      <td>H1531</td>\n",
       "    </tr>\n",
       "    <tr>\n",
       "      <th>ENV_ID</th>\n",
       "      <td>Env_557</td>\n",
       "      <td>Env_557</td>\n",
       "      <td>Env_557</td>\n",
       "      <td>Env_557</td>\n",
       "      <td>Env_557</td>\n",
       "    </tr>\n",
       "    <tr>\n",
       "      <th>YIELD</th>\n",
       "      <td>100.326</td>\n",
       "      <td>97.9654</td>\n",
       "      <td>134.394</td>\n",
       "      <td>114.827</td>\n",
       "      <td>117.089</td>\n",
       "    </tr>\n",
       "    <tr>\n",
       "      <th>ENV_YIELD_MEAN</th>\n",
       "      <td>111.692</td>\n",
       "      <td>111.692</td>\n",
       "      <td>111.692</td>\n",
       "      <td>111.692</td>\n",
       "      <td>111.692</td>\n",
       "    </tr>\n",
       "    <tr>\n",
       "      <th>heat_stress_s</th>\n",
       "      <td>0.493695</td>\n",
       "      <td>0.493695</td>\n",
       "      <td>0.493695</td>\n",
       "      <td>0.493695</td>\n",
       "      <td>0.493695</td>\n",
       "    </tr>\n",
       "    <tr>\n",
       "      <th>drought_stress_s</th>\n",
       "      <td>0.185209</td>\n",
       "      <td>0.185209</td>\n",
       "      <td>0.185209</td>\n",
       "      <td>0.185209</td>\n",
       "      <td>0.185209</td>\n",
       "    </tr>\n",
       "    <tr>\n",
       "      <th>heat_drought_stress_s</th>\n",
       "      <td>0.039241</td>\n",
       "      <td>0.039241</td>\n",
       "      <td>0.039241</td>\n",
       "      <td>0.039241</td>\n",
       "      <td>0.039241</td>\n",
       "    </tr>\n",
       "  </tbody>\n",
       "</table>\n",
       "</div>"
      ],
      "text/plain": [
       "                         387422    387423    387424    387425    387426\n",
       "HYBRID_ID                 H1531     H1037     H1871     H1037     H1531\n",
       "ENV_ID                  Env_557   Env_557   Env_557   Env_557   Env_557\n",
       "YIELD                   100.326   97.9654   134.394   114.827   117.089\n",
       "ENV_YIELD_MEAN          111.692   111.692   111.692   111.692   111.692\n",
       "heat_stress_s          0.493695  0.493695  0.493695  0.493695  0.493695\n",
       "drought_stress_s       0.185209  0.185209  0.185209  0.185209  0.185209\n",
       "heat_drought_stress_s  0.039241  0.039241  0.039241  0.039241  0.039241"
      ]
     },
     "metadata": {},
     "output_type": "display_data"
    }
   ],
   "source": [
    "display_all(df_raw.tail().T)"
   ]
  },
  {
   "cell_type": "code",
   "execution_count": 8,
   "metadata": {},
   "outputs": [],
   "source": [
    "# Standardized Yield within each Hybrid type\n",
    "\n",
    "df_raw['perc_reduction'] = df_raw.groupby('HYBRID_ID')['YIELD'].transform(lambda x: (np.max(x)-x)/np.max(x))"
   ]
  },
  {
   "cell_type": "code",
   "execution_count": 9,
   "metadata": {},
   "outputs": [
    {
     "data": {
      "text/html": [
       "<div>\n",
       "<style scoped>\n",
       "    .dataframe tbody tr th:only-of-type {\n",
       "        vertical-align: middle;\n",
       "    }\n",
       "\n",
       "    .dataframe tbody tr th {\n",
       "        vertical-align: top;\n",
       "    }\n",
       "\n",
       "    .dataframe thead th {\n",
       "        text-align: right;\n",
       "    }\n",
       "</style>\n",
       "<table border=\"1\" class=\"dataframe\">\n",
       "  <thead>\n",
       "    <tr style=\"text-align: right;\">\n",
       "      <th></th>\n",
       "      <th>HYBRID_ID</th>\n",
       "      <th>ENV_ID</th>\n",
       "      <th>YIELD</th>\n",
       "      <th>ENV_YIELD_MEAN</th>\n",
       "      <th>heat_stress_s</th>\n",
       "      <th>drought_stress_s</th>\n",
       "      <th>heat_drought_stress_s</th>\n",
       "      <th>perc_reduction</th>\n",
       "    </tr>\n",
       "  </thead>\n",
       "  <tbody>\n",
       "    <tr>\n",
       "      <th>0</th>\n",
       "      <td>H2136</td>\n",
       "      <td>Env_94</td>\n",
       "      <td>135.2951</td>\n",
       "      <td>124.764197</td>\n",
       "      <td>0.182954</td>\n",
       "      <td>0.984023</td>\n",
       "      <td>0.211190</td>\n",
       "      <td>0.000000</td>\n",
       "    </tr>\n",
       "    <tr>\n",
       "      <th>3</th>\n",
       "      <td>H2136</td>\n",
       "      <td>Env_94</td>\n",
       "      <td>125.5679</td>\n",
       "      <td>124.764197</td>\n",
       "      <td>0.182954</td>\n",
       "      <td>0.984023</td>\n",
       "      <td>0.211190</td>\n",
       "      <td>0.071896</td>\n",
       "    </tr>\n",
       "    <tr>\n",
       "      <th>11560</th>\n",
       "      <td>H2136</td>\n",
       "      <td>Env_187</td>\n",
       "      <td>124.7918</td>\n",
       "      <td>136.774472</td>\n",
       "      <td>0.122208</td>\n",
       "      <td>0.959172</td>\n",
       "      <td>0.139336</td>\n",
       "      <td>0.077633</td>\n",
       "    </tr>\n",
       "    <tr>\n",
       "      <th>11594</th>\n",
       "      <td>H2136</td>\n",
       "      <td>Env_104</td>\n",
       "      <td>124.0943</td>\n",
       "      <td>98.986643</td>\n",
       "      <td>0.155073</td>\n",
       "      <td>0.986805</td>\n",
       "      <td>0.180386</td>\n",
       "      <td>0.082788</td>\n",
       "    </tr>\n",
       "    <tr>\n",
       "      <th>15152</th>\n",
       "      <td>H2136</td>\n",
       "      <td>Env_171</td>\n",
       "      <td>123.8382</td>\n",
       "      <td>124.870882</td>\n",
       "      <td>0.164045</td>\n",
       "      <td>0.985460</td>\n",
       "      <td>0.190489</td>\n",
       "      <td>0.084681</td>\n",
       "    </tr>\n",
       "  </tbody>\n",
       "</table>\n",
       "</div>"
      ],
      "text/plain": [
       "      HYBRID_ID   ENV_ID     YIELD  ENV_YIELD_MEAN  heat_stress_s  \\\n",
       "0         H2136   Env_94  135.2951      124.764197       0.182954   \n",
       "3         H2136   Env_94  125.5679      124.764197       0.182954   \n",
       "11560     H2136  Env_187  124.7918      136.774472       0.122208   \n",
       "11594     H2136  Env_104  124.0943       98.986643       0.155073   \n",
       "15152     H2136  Env_171  123.8382      124.870882       0.164045   \n",
       "\n",
       "       drought_stress_s  heat_drought_stress_s  perc_reduction  \n",
       "0              0.984023               0.211190        0.000000  \n",
       "3              0.984023               0.211190        0.071896  \n",
       "11560          0.959172               0.139336        0.077633  \n",
       "11594          0.986805               0.180386        0.082788  \n",
       "15152          0.985460               0.190489        0.084681  "
      ]
     },
     "execution_count": 9,
     "metadata": {},
     "output_type": "execute_result"
    }
   ],
   "source": [
    "# Example\n",
    "\n",
    "df_raw[df_raw.HYBRID_ID == \"H2136\"].head()"
   ]
  },
  {
   "cell_type": "code",
   "execution_count": 10,
   "metadata": {},
   "outputs": [],
   "source": [
    "def ols_res_coef(df, xcols,  ycol):\n",
    "    \"\"\"\" Get beta values from Linear regression without the intercept\n",
    "    \"\"\"\n",
    "    X_train=df[xcols]\n",
    "    y_train=df[ycol]\n",
    "    x_train = sm.add_constant(X_train)\n",
    "    est=  smf.OLS(y_train, x_train).fit()\n",
    "    return est.params[1]"
   ]
  },
  {
   "cell_type": "code",
   "execution_count": 11,
   "metadata": {},
   "outputs": [],
   "source": [
    "def ols_res_p(df, xcols,  ycol):\n",
    "    \"\"\"\" Get p-values from Linear regression without the intercept\n",
    "    \"\"\"\n",
    "    X_train=df[xcols]\n",
    "    y_train=df[ycol]\n",
    "    x_train = sm.add_constant(X_train)\n",
    "    est=  smf.OLS(y_train, x_train).fit()\n",
    "    return est.pvalues[1]\n"
   ]
  },
  {
   "cell_type": "markdown",
   "metadata": {},
   "source": [
    "## Stress Resistance check using Linear Regression"
   ]
  },
  {
   "cell_type": "code",
   "execution_count": 12,
   "metadata": {},
   "outputs": [],
   "source": [
    "def is_resistant(df,stress_metric):\n",
    "    \"\"\" Fetches beta and p value from linear regression model for each Hybrid Type\n",
    "    to find which Hybrid is resistant to the corresponding stress metric\n",
    "    Method = Hybrid is non-stress resistant if beta > 0 with more than 90% p value significance\n",
    "    \"\"\"\n",
    "    # Fitting Linear Regression to fetch beta and p value\n",
    "    \n",
    "    # Coefficient\n",
    "    with_heat_coef = pd.DataFrame(df.groupby('HYBRID_ID').apply(ols_res_coef, xcols=[stress_metric], ycol='perc_reduction'))\n",
    "    # p-value for significance\n",
    "    with_heat_p_value = pd.DataFrame(df.groupby('HYBRID_ID').apply(ols_res_p, xcols=[stress_metric], ycol='perc_reduction'))\n",
    "    \n",
    "    # Joining betas and p values to our original data frame\n",
    "    \n",
    "    df = pd.merge(df,\n",
    "                 with_heat_coef,\n",
    "                 on = 'HYBRID_ID', \n",
    "                 how = 'left')\n",
    "    df = pd.merge(df ,\n",
    "                 with_heat_p_value,\n",
    "                 on='HYBRID_ID', \n",
    "                 how='left')\n",
    "    \n",
    "    # renaming column names\n",
    "    df.rename(columns = {\"0_x\": stress_metric + \"_coef\", \n",
    "                                  \"0_y\":stress_metric + \"_p_value\"}, inplace = True)\n",
    "    \n",
    "    # Creates stress resitance binary metric \n",
    "    df[stress_metric+'_resistant'] = np.where( (df[stress_metric + \"_coef\"] > 0) & (df[stress_metric + \"_p_value\"] <= 0.1), 0 , 1)\n",
    "    \n",
    "    return(df)"
   ]
  },
  {
   "cell_type": "markdown",
   "metadata": {},
   "source": [
    "### Stress metric - Heat"
   ]
  },
  {
   "cell_type": "code",
   "execution_count": 13,
   "metadata": {},
   "outputs": [
    {
     "data": {
      "text/html": [
       "<div>\n",
       "<style scoped>\n",
       "    .dataframe tbody tr th:only-of-type {\n",
       "        vertical-align: middle;\n",
       "    }\n",
       "\n",
       "    .dataframe tbody tr th {\n",
       "        vertical-align: top;\n",
       "    }\n",
       "\n",
       "    .dataframe thead th {\n",
       "        text-align: right;\n",
       "    }\n",
       "</style>\n",
       "<table border=\"1\" class=\"dataframe\">\n",
       "  <thead>\n",
       "    <tr style=\"text-align: right;\">\n",
       "      <th></th>\n",
       "      <th>HYBRID_ID</th>\n",
       "      <th>ENV_ID</th>\n",
       "      <th>YIELD</th>\n",
       "      <th>ENV_YIELD_MEAN</th>\n",
       "      <th>heat_stress_s</th>\n",
       "      <th>drought_stress_s</th>\n",
       "      <th>heat_drought_stress_s</th>\n",
       "      <th>perc_reduction</th>\n",
       "      <th>heat_stress_s_coef</th>\n",
       "      <th>heat_stress_s_p_value</th>\n",
       "      <th>heat_stress_s_resistant</th>\n",
       "    </tr>\n",
       "  </thead>\n",
       "  <tbody>\n",
       "    <tr>\n",
       "      <th>0</th>\n",
       "      <td>H2136</td>\n",
       "      <td>Env_94</td>\n",
       "      <td>135.2951</td>\n",
       "      <td>124.764197</td>\n",
       "      <td>0.182954</td>\n",
       "      <td>0.984023</td>\n",
       "      <td>0.21119</td>\n",
       "      <td>0.0</td>\n",
       "      <td>-0.891224</td>\n",
       "      <td>0.003062</td>\n",
       "      <td>1</td>\n",
       "    </tr>\n",
       "  </tbody>\n",
       "</table>\n",
       "</div>"
      ],
      "text/plain": [
       "  HYBRID_ID  ENV_ID     YIELD  ENV_YIELD_MEAN  heat_stress_s  \\\n",
       "0     H2136  Env_94  135.2951      124.764197       0.182954   \n",
       "\n",
       "   drought_stress_s  heat_drought_stress_s  perc_reduction  \\\n",
       "0          0.984023                0.21119             0.0   \n",
       "\n",
       "   heat_stress_s_coef  heat_stress_s_p_value  heat_stress_s_resistant  \n",
       "0           -0.891224               0.003062                        1  "
      ]
     },
     "execution_count": 13,
     "metadata": {},
     "output_type": "execute_result"
    }
   ],
   "source": [
    "df_raw = is_resistant(df_raw,'heat_stress_s')\n",
    "df_raw.head(1)"
   ]
  },
  {
   "cell_type": "markdown",
   "metadata": {},
   "source": [
    "### Stress metric - Drought"
   ]
  },
  {
   "cell_type": "code",
   "execution_count": 14,
   "metadata": {},
   "outputs": [
    {
     "data": {
      "text/html": [
       "<div>\n",
       "<style scoped>\n",
       "    .dataframe tbody tr th:only-of-type {\n",
       "        vertical-align: middle;\n",
       "    }\n",
       "\n",
       "    .dataframe tbody tr th {\n",
       "        vertical-align: top;\n",
       "    }\n",
       "\n",
       "    .dataframe thead th {\n",
       "        text-align: right;\n",
       "    }\n",
       "</style>\n",
       "<table border=\"1\" class=\"dataframe\">\n",
       "  <thead>\n",
       "    <tr style=\"text-align: right;\">\n",
       "      <th></th>\n",
       "      <th>HYBRID_ID</th>\n",
       "      <th>ENV_ID</th>\n",
       "      <th>YIELD</th>\n",
       "      <th>ENV_YIELD_MEAN</th>\n",
       "      <th>heat_stress_s</th>\n",
       "      <th>drought_stress_s</th>\n",
       "      <th>heat_drought_stress_s</th>\n",
       "      <th>perc_reduction</th>\n",
       "      <th>heat_stress_s_coef</th>\n",
       "      <th>heat_stress_s_p_value</th>\n",
       "      <th>heat_stress_s_resistant</th>\n",
       "      <th>drought_stress_s_coef</th>\n",
       "      <th>drought_stress_s_p_value</th>\n",
       "      <th>drought_stress_s_resistant</th>\n",
       "    </tr>\n",
       "  </thead>\n",
       "  <tbody>\n",
       "    <tr>\n",
       "      <th>0</th>\n",
       "      <td>H2136</td>\n",
       "      <td>Env_94</td>\n",
       "      <td>135.2951</td>\n",
       "      <td>124.764197</td>\n",
       "      <td>0.182954</td>\n",
       "      <td>0.984023</td>\n",
       "      <td>0.21119</td>\n",
       "      <td>0.0</td>\n",
       "      <td>-0.891224</td>\n",
       "      <td>0.003062</td>\n",
       "      <td>1</td>\n",
       "      <td>0.125524</td>\n",
       "      <td>0.389089</td>\n",
       "      <td>1</td>\n",
       "    </tr>\n",
       "  </tbody>\n",
       "</table>\n",
       "</div>"
      ],
      "text/plain": [
       "  HYBRID_ID  ENV_ID     YIELD  ENV_YIELD_MEAN  heat_stress_s  \\\n",
       "0     H2136  Env_94  135.2951      124.764197       0.182954   \n",
       "\n",
       "   drought_stress_s  heat_drought_stress_s  perc_reduction  \\\n",
       "0          0.984023                0.21119             0.0   \n",
       "\n",
       "   heat_stress_s_coef  heat_stress_s_p_value  heat_stress_s_resistant  \\\n",
       "0           -0.891224               0.003062                        1   \n",
       "\n",
       "   drought_stress_s_coef  drought_stress_s_p_value  drought_stress_s_resistant  \n",
       "0               0.125524                  0.389089                           1  "
      ]
     },
     "execution_count": 14,
     "metadata": {},
     "output_type": "execute_result"
    }
   ],
   "source": [
    "df_raw = is_resistant(df_raw,'drought_stress_s')\n",
    "df_raw.head(1)"
   ]
  },
  {
   "cell_type": "markdown",
   "metadata": {},
   "source": [
    "### Stress metric - Heat and Drought"
   ]
  },
  {
   "cell_type": "code",
   "execution_count": 15,
   "metadata": {},
   "outputs": [
    {
     "data": {
      "text/html": [
       "<div>\n",
       "<style scoped>\n",
       "    .dataframe tbody tr th:only-of-type {\n",
       "        vertical-align: middle;\n",
       "    }\n",
       "\n",
       "    .dataframe tbody tr th {\n",
       "        vertical-align: top;\n",
       "    }\n",
       "\n",
       "    .dataframe thead th {\n",
       "        text-align: right;\n",
       "    }\n",
       "</style>\n",
       "<table border=\"1\" class=\"dataframe\">\n",
       "  <thead>\n",
       "    <tr style=\"text-align: right;\">\n",
       "      <th></th>\n",
       "      <th>HYBRID_ID</th>\n",
       "      <th>ENV_ID</th>\n",
       "      <th>YIELD</th>\n",
       "      <th>ENV_YIELD_MEAN</th>\n",
       "      <th>heat_stress_s</th>\n",
       "      <th>drought_stress_s</th>\n",
       "      <th>heat_drought_stress_s</th>\n",
       "      <th>perc_reduction</th>\n",
       "      <th>heat_stress_s_coef</th>\n",
       "      <th>heat_stress_s_p_value</th>\n",
       "      <th>heat_stress_s_resistant</th>\n",
       "      <th>drought_stress_s_coef</th>\n",
       "      <th>drought_stress_s_p_value</th>\n",
       "      <th>drought_stress_s_resistant</th>\n",
       "      <th>heat_drought_stress_s_coef</th>\n",
       "      <th>heat_drought_stress_s_p_value</th>\n",
       "      <th>heat_drought_stress_s_resistant</th>\n",
       "    </tr>\n",
       "  </thead>\n",
       "  <tbody>\n",
       "    <tr>\n",
       "      <th>0</th>\n",
       "      <td>H2136</td>\n",
       "      <td>Env_94</td>\n",
       "      <td>135.2951</td>\n",
       "      <td>124.764197</td>\n",
       "      <td>0.182954</td>\n",
       "      <td>0.984023</td>\n",
       "      <td>0.21119</td>\n",
       "      <td>0.0</td>\n",
       "      <td>-0.891224</td>\n",
       "      <td>0.003062</td>\n",
       "      <td>1</td>\n",
       "      <td>0.125524</td>\n",
       "      <td>0.389089</td>\n",
       "      <td>1</td>\n",
       "      <td>-0.613757</td>\n",
       "      <td>0.015539</td>\n",
       "      <td>1</td>\n",
       "    </tr>\n",
       "  </tbody>\n",
       "</table>\n",
       "</div>"
      ],
      "text/plain": [
       "  HYBRID_ID  ENV_ID     YIELD  ENV_YIELD_MEAN  heat_stress_s  \\\n",
       "0     H2136  Env_94  135.2951      124.764197       0.182954   \n",
       "\n",
       "   drought_stress_s  heat_drought_stress_s  perc_reduction  \\\n",
       "0          0.984023                0.21119             0.0   \n",
       "\n",
       "   heat_stress_s_coef  heat_stress_s_p_value  heat_stress_s_resistant  \\\n",
       "0           -0.891224               0.003062                        1   \n",
       "\n",
       "   drought_stress_s_coef  drought_stress_s_p_value  \\\n",
       "0               0.125524                  0.389089   \n",
       "\n",
       "   drought_stress_s_resistant  heat_drought_stress_s_coef  \\\n",
       "0                           1                   -0.613757   \n",
       "\n",
       "   heat_drought_stress_s_p_value  heat_drought_stress_s_resistant  \n",
       "0                       0.015539                                1  "
      ]
     },
     "execution_count": 15,
     "metadata": {},
     "output_type": "execute_result"
    }
   ],
   "source": [
    "df_raw = is_resistant(df_raw,'heat_drought_stress_s')\n",
    "df_raw.head(1)"
   ]
  },
  {
   "cell_type": "code",
   "execution_count": 16,
   "metadata": {},
   "outputs": [
    {
     "data": {
      "text/html": [
       "<div>\n",
       "<style scoped>\n",
       "    .dataframe tbody tr th:only-of-type {\n",
       "        vertical-align: middle;\n",
       "    }\n",
       "\n",
       "    .dataframe tbody tr th {\n",
       "        vertical-align: top;\n",
       "    }\n",
       "\n",
       "    .dataframe thead th {\n",
       "        text-align: right;\n",
       "    }\n",
       "</style>\n",
       "<table border=\"1\" class=\"dataframe\">\n",
       "  <thead>\n",
       "    <tr style=\"text-align: right;\">\n",
       "      <th></th>\n",
       "      <th>387422</th>\n",
       "      <th>387423</th>\n",
       "      <th>387424</th>\n",
       "      <th>387425</th>\n",
       "      <th>387426</th>\n",
       "    </tr>\n",
       "  </thead>\n",
       "  <tbody>\n",
       "    <tr>\n",
       "      <th>HYBRID_ID</th>\n",
       "      <td>H1531</td>\n",
       "      <td>H1037</td>\n",
       "      <td>H1871</td>\n",
       "      <td>H1037</td>\n",
       "      <td>H1531</td>\n",
       "    </tr>\n",
       "    <tr>\n",
       "      <th>ENV_ID</th>\n",
       "      <td>Env_557</td>\n",
       "      <td>Env_557</td>\n",
       "      <td>Env_557</td>\n",
       "      <td>Env_557</td>\n",
       "      <td>Env_557</td>\n",
       "    </tr>\n",
       "    <tr>\n",
       "      <th>YIELD</th>\n",
       "      <td>100.326</td>\n",
       "      <td>97.9654</td>\n",
       "      <td>134.394</td>\n",
       "      <td>114.827</td>\n",
       "      <td>117.089</td>\n",
       "    </tr>\n",
       "    <tr>\n",
       "      <th>ENV_YIELD_MEAN</th>\n",
       "      <td>111.692</td>\n",
       "      <td>111.692</td>\n",
       "      <td>111.692</td>\n",
       "      <td>111.692</td>\n",
       "      <td>111.692</td>\n",
       "    </tr>\n",
       "    <tr>\n",
       "      <th>heat_stress_s</th>\n",
       "      <td>0.493695</td>\n",
       "      <td>0.493695</td>\n",
       "      <td>0.493695</td>\n",
       "      <td>0.493695</td>\n",
       "      <td>0.493695</td>\n",
       "    </tr>\n",
       "    <tr>\n",
       "      <th>drought_stress_s</th>\n",
       "      <td>0.185209</td>\n",
       "      <td>0.185209</td>\n",
       "      <td>0.185209</td>\n",
       "      <td>0.185209</td>\n",
       "      <td>0.185209</td>\n",
       "    </tr>\n",
       "    <tr>\n",
       "      <th>heat_drought_stress_s</th>\n",
       "      <td>0.039241</td>\n",
       "      <td>0.039241</td>\n",
       "      <td>0.039241</td>\n",
       "      <td>0.039241</td>\n",
       "      <td>0.039241</td>\n",
       "    </tr>\n",
       "    <tr>\n",
       "      <th>perc_reduction</th>\n",
       "      <td>0.452991</td>\n",
       "      <td>0.523091</td>\n",
       "      <td>0.339892</td>\n",
       "      <td>0.441008</td>\n",
       "      <td>0.361597</td>\n",
       "    </tr>\n",
       "    <tr>\n",
       "      <th>heat_stress_s_coef</th>\n",
       "      <td>0.0735477</td>\n",
       "      <td>0.268918</td>\n",
       "      <td>-0.207998</td>\n",
       "      <td>0.268918</td>\n",
       "      <td>0.0735477</td>\n",
       "    </tr>\n",
       "    <tr>\n",
       "      <th>heat_stress_s_p_value</th>\n",
       "      <td>9.31648e-05</td>\n",
       "      <td>0</td>\n",
       "      <td>1.20587e-19</td>\n",
       "      <td>0</td>\n",
       "      <td>9.31648e-05</td>\n",
       "    </tr>\n",
       "    <tr>\n",
       "      <th>heat_stress_s_resistant</th>\n",
       "      <td>0</td>\n",
       "      <td>0</td>\n",
       "      <td>1</td>\n",
       "      <td>0</td>\n",
       "      <td>0</td>\n",
       "    </tr>\n",
       "    <tr>\n",
       "      <th>drought_stress_s_coef</th>\n",
       "      <td>0.0469468</td>\n",
       "      <td>0.0361497</td>\n",
       "      <td>0.0592441</td>\n",
       "      <td>0.0361497</td>\n",
       "      <td>0.0469468</td>\n",
       "    </tr>\n",
       "    <tr>\n",
       "      <th>drought_stress_s_p_value</th>\n",
       "      <td>2.53183e-17</td>\n",
       "      <td>1.02372e-51</td>\n",
       "      <td>8.31086e-18</td>\n",
       "      <td>1.02372e-51</td>\n",
       "      <td>2.53183e-17</td>\n",
       "    </tr>\n",
       "    <tr>\n",
       "      <th>drought_stress_s_resistant</th>\n",
       "      <td>0</td>\n",
       "      <td>0</td>\n",
       "      <td>0</td>\n",
       "      <td>0</td>\n",
       "      <td>0</td>\n",
       "    </tr>\n",
       "    <tr>\n",
       "      <th>heat_drought_stress_s_coef</th>\n",
       "      <td>0.303907</td>\n",
       "      <td>0.30722</td>\n",
       "      <td>0.209217</td>\n",
       "      <td>0.30722</td>\n",
       "      <td>0.303907</td>\n",
       "    </tr>\n",
       "    <tr>\n",
       "      <th>heat_drought_stress_s_p_value</th>\n",
       "      <td>8.28805e-50</td>\n",
       "      <td>0</td>\n",
       "      <td>4.34093e-21</td>\n",
       "      <td>0</td>\n",
       "      <td>8.28805e-50</td>\n",
       "    </tr>\n",
       "    <tr>\n",
       "      <th>heat_drought_stress_s_resistant</th>\n",
       "      <td>0</td>\n",
       "      <td>0</td>\n",
       "      <td>0</td>\n",
       "      <td>0</td>\n",
       "      <td>0</td>\n",
       "    </tr>\n",
       "  </tbody>\n",
       "</table>\n",
       "</div>"
      ],
      "text/plain": [
       "                                      387422       387423       387424  \\\n",
       "HYBRID_ID                              H1531        H1037        H1871   \n",
       "ENV_ID                               Env_557      Env_557      Env_557   \n",
       "YIELD                                100.326      97.9654      134.394   \n",
       "ENV_YIELD_MEAN                       111.692      111.692      111.692   \n",
       "heat_stress_s                       0.493695     0.493695     0.493695   \n",
       "drought_stress_s                    0.185209     0.185209     0.185209   \n",
       "heat_drought_stress_s               0.039241     0.039241     0.039241   \n",
       "perc_reduction                      0.452991     0.523091     0.339892   \n",
       "heat_stress_s_coef                 0.0735477     0.268918    -0.207998   \n",
       "heat_stress_s_p_value            9.31648e-05            0  1.20587e-19   \n",
       "heat_stress_s_resistant                    0            0            1   \n",
       "drought_stress_s_coef              0.0469468    0.0361497    0.0592441   \n",
       "drought_stress_s_p_value         2.53183e-17  1.02372e-51  8.31086e-18   \n",
       "drought_stress_s_resistant                 0            0            0   \n",
       "heat_drought_stress_s_coef          0.303907      0.30722     0.209217   \n",
       "heat_drought_stress_s_p_value    8.28805e-50            0  4.34093e-21   \n",
       "heat_drought_stress_s_resistant            0            0            0   \n",
       "\n",
       "                                      387425       387426  \n",
       "HYBRID_ID                              H1037        H1531  \n",
       "ENV_ID                               Env_557      Env_557  \n",
       "YIELD                                114.827      117.089  \n",
       "ENV_YIELD_MEAN                       111.692      111.692  \n",
       "heat_stress_s                       0.493695     0.493695  \n",
       "drought_stress_s                    0.185209     0.185209  \n",
       "heat_drought_stress_s               0.039241     0.039241  \n",
       "perc_reduction                      0.441008     0.361597  \n",
       "heat_stress_s_coef                  0.268918    0.0735477  \n",
       "heat_stress_s_p_value                      0  9.31648e-05  \n",
       "heat_stress_s_resistant                    0            0  \n",
       "drought_stress_s_coef              0.0361497    0.0469468  \n",
       "drought_stress_s_p_value         1.02372e-51  2.53183e-17  \n",
       "drought_stress_s_resistant                 0            0  \n",
       "heat_drought_stress_s_coef           0.30722     0.303907  \n",
       "heat_drought_stress_s_p_value              0  8.28805e-50  \n",
       "heat_drought_stress_s_resistant            0            0  "
      ]
     },
     "metadata": {},
     "output_type": "display_data"
    }
   ],
   "source": [
    "display_all(df_raw.tail().T)"
   ]
  },
  {
   "cell_type": "markdown",
   "metadata": {},
   "source": [
    "## Visualization"
   ]
  },
  {
   "cell_type": "code",
   "execution_count": 17,
   "metadata": {},
   "outputs": [],
   "source": [
    "plt.rcParams['figure.figsize'] = [20, 5]"
   ]
  },
  {
   "cell_type": "markdown",
   "metadata": {},
   "source": [
    "### Heat"
   ]
  },
  {
   "cell_type": "code",
   "execution_count": 18,
   "metadata": {},
   "outputs": [
    {
     "data": {
      "text/plain": [
       "Text(0.5,1,'Heat susceptible Hybrids')"
      ]
     },
     "execution_count": 18,
     "metadata": {},
     "output_type": "execute_result"
    },
    {
     "data": {
      "image/png": "[encoded data removed]",
      "text/plain": [
       "<Figure size 429x360 with 1 Axes>"
      ]
     },
     "metadata": {},
     "output_type": "display_data"
    }
   ],
   "source": [
    "# Non - Heat Resistant hybrids vs Heat stress\n",
    "# sampling 3 Hybrids - as can't show all in same plot\n",
    "\n",
    "hybrids = list(set(df_raw.HYBRID_ID[df_raw.heat_stress_s_resistant==0]))\n",
    "# In-place shuffle\n",
    "random.shuffle(hybrids) \n",
    "sample=df_raw[(df_raw.HYBRID_ID.isin(hybrids[0:3]))]\n",
    "\n",
    "sns.lmplot( x=\"heat_stress_s\", y=\"perc_reduction\", data=sample, fit_reg=True, hue='HYBRID_ID', legend=True,scatter_kws={\"alpha\":0.5})\n",
    "plt.xlabel('Heat Stress')\n",
    "plt.ylabel('% reduction in Yield')\n",
    "plt.title('Heat susceptible Hybrids')"
   ]
  },
  {
   "cell_type": "markdown",
   "metadata": {},
   "source": [
    "### Drought"
   ]
  },
  {
   "cell_type": "code",
   "execution_count": 20,
   "metadata": {},
   "outputs": [
    {
     "data": {
      "text/plain": [
       "Text(0.5,1,'Drought susceptible Hybrids')"
      ]
     },
     "execution_count": 20,
     "metadata": {},
     "output_type": "execute_result"
    },
    {
     "data": {
      "image/png": "[encoded data removed]",
      "text/plain": [
       "<Figure size 428.875x360 with 1 Axes>"
      ]
     },
     "metadata": {},
     "output_type": "display_data"
    }
   ],
   "source": [
    "# Non - Drought Resistant hybrids vs Drought stress\n",
    "# sampling 3 Hybrids - as can't show all in same plot\n",
    "\n",
    "hybrids = list(set(df_raw.HYBRID_ID[df_raw.heat_drought_stress_s_resistant==0]))\n",
    "# In-place shuffle\n",
    "random.shuffle(hybrids) \n",
    "sample=df_raw[(df_raw.HYBRID_ID.isin(hybrids[0:3]))]\n",
    "\n",
    "sns.lmplot( x=\"drought_stress_s\", y=\"perc_reduction\", data=sample, fit_reg=True, hue='HYBRID_ID', legend=True,scatter_kws={\"alpha\":0.5})\n",
    "plt.xlabel('Drought Stress')\n",
    "plt.ylabel('% reduction in Yield')\n",
    "plt.title('Drought susceptible Hybrids')\n"
   ]
  },
  {
   "cell_type": "markdown",
   "metadata": {},
   "source": [
    "### Heat and Drought"
   ]
  },
  {
   "cell_type": "code",
   "execution_count": 21,
   "metadata": {},
   "outputs": [
    {
     "data": {
      "text/plain": [
       "Text(0.5,1,'Heat & Drought susceptible Hybrids')"
      ]
     },
     "execution_count": 21,
     "metadata": {},
     "output_type": "execute_result"
    },
    {
     "data": {
      "image/png": "[encoded data removed]",
      "text/plain": [
       "<Figure size 428.875x360 with 1 Axes>"
      ]
     },
     "metadata": {},
     "output_type": "display_data"
    }
   ],
   "source": [
    "# Non - Heat & Drought Resistant hybrids vs Heat & Drought stress\n",
    "# sampling 3 Hybrids - as can't show all in same plot\n",
    "\n",
    "hybrids = list(set(df_raw.HYBRID_ID[df_raw.drought_stress_s_resistant==0]))\n",
    "# In-place shuffle\n",
    "random.shuffle(hybrids) \n",
    "sample=df_raw[(df_raw.HYBRID_ID.isin(hybrids[0:3]))]\n",
    "\n",
    "sns.lmplot( x=\"heat_drought_stress_s\", y=\"perc_reduction\", data=sample, fit_reg=True, hue='HYBRID_ID', legend=True,scatter_kws={\"alpha\":0.5})\n",
    "plt.xlabel('Heat & Drought Stress')\n",
    "plt.ylabel('% reduction in Yield')\n",
    "plt.title('Heat & Drought susceptible Hybrids')\n"
   ]
  },
  {
   "cell_type": "code",
   "execution_count": 36,
   "metadata": {},
   "outputs": [],
   "source": [
    "df_raw.to_csv(\"hybridresistance.csv\", index=False) "
   ]
  },
  {
   "cell_type": "code",
   "execution_count": null,
   "metadata": {},
   "outputs": [],
   "source": []
  }
 ],
 "metadata": {
  "kernelspec": {
   "display_name": "Python 3",
   "language": "python",
   "name": "python3"
  },
  "language_info": {
   "codemirror_mode": {
    "name": "ipython",
    "version": 3
   },
   "file_extension": ".py",
   "mimetype": "text/x-python",
   "name": "python",
   "nbconvert_exporter": "python",
   "pygments_lexer": "ipython3",
   "version": "3.6.5"
  }
 },
 "nbformat": 4,
 "nbformat_minor": 2
}
